{
 "cells": [
  {
   "cell_type": "markdown",
   "id": "0fe51619-7892-479f-84c3-b516aa5d5721",
   "metadata": {},
   "source": [
    "#### Syntax ####"
   ]
  },
  {
   "cell_type": "code",
   "execution_count": 9,
   "id": "046e3a9a-6bf8-4674-abab-588c4f4e1338",
   "metadata": {},
   "outputs": [
    {
     "name": "stdout",
     "output_type": "stream",
     "text": [
      "Hello, World!\n"
     ]
    }
   ],
   "source": [
    "print(\"Hello, World!\")"
   ]
  },
  {
   "cell_type": "markdown",
   "id": "dea6d580-26e1-473c-8f26-0528c31b82e8",
   "metadata": {},
   "source": [
    "#### Variabel ####"
   ]
  },
  {
   "cell_type": "code",
   "execution_count": 15,
   "id": "d4b7e813-07c4-494c-abbb-796828616c85",
   "metadata": {},
   "outputs": [
    {
     "name": "stdout",
     "output_type": "stream",
     "text": [
      "nama saya adalah cindy dan usia saya adalah 18\n"
     ]
    }
   ],
   "source": [
    "nama = \"cindy\"\n",
    "usia = 18\n",
    "\n",
    "print(\"nama saya adalah\", nama, \"dan usia saya adalah\", usia)"
   ]
  },
  {
   "cell_type": "markdown",
   "id": "cc5a7731-d7c0-459d-b1f3-b761d8e9175c",
   "metadata": {},
   "source": [
    "#### Tipe Data ####"
   ]
  },
  {
   "cell_type": "code",
   "execution_count": 17,
   "id": "d3bd1dc4-e93a-442c-90ce-cceafef5b27b",
   "metadata": {},
   "outputs": [
    {
     "name": "stdout",
     "output_type": "stream",
     "text": [
      "<class 'str'>\n",
      "<class 'int'>\n",
      "<class 'float'>\n",
      "<class 'bool'>\n"
     ]
    }
   ],
   "source": [
    "nama = \"cindy\"\n",
    "usia = 18\n",
    "tinggi = 1.50\n",
    "benar = True\n",
    "print(type(nama))\n",
    "print(type(usia))\n",
    "print(type(tinggi))\n",
    "print(type(benar))"
   ]
  },
  {
   "cell_type": "markdown",
   "id": "af692dfc-0e51-4a23-a76e-3eb09c459111",
   "metadata": {},
   "source": [
    "#### Operator Aritmatika ####"
   ]
  },
  {
   "cell_type": "code",
   "execution_count": 23,
   "id": "daa68711-f4db-4537-a0f8-a07bc191e3f9",
   "metadata": {},
   "outputs": [],
   "source": [
    "a = 20\n",
    "b = 20\n",
    "\n",
    "c = a+b #penjumlahan\n",
    "d = a-b #pengurangan\n",
    "e = a*b #perkalian\n",
    "f = a/b #pembagian\n",
    "g = a**b #perpangkatan\n",
    "h = a%b #sisa bagi\n",
    "i = a//b #pembagian bulat\n"
   ]
  },
  {
   "cell_type": "markdown",
   "id": "99ddbd71-11d0-4257-a127-ca6f43c813b6",
   "metadata": {},
   "source": [
    "#### Multistatment Variabel ####"
   ]
  },
  {
   "cell_type": "code",
   "execution_count": 30,
   "id": "a413a036-dd62-4c66-9bd6-df1875e7d98d",
   "metadata": {},
   "outputs": [
    {
     "name": "stdout",
     "output_type": "stream",
     "text": [
      "nama saya cindy dan umur saya 18 tahun dan sedang berkuliah di universitas telkom surabaya\n"
     ]
    }
   ],
   "source": [
    "nama = \"cindy\"\n",
    "a = 10; b = 8\n",
    "kesibukan, keterangan =\"berkuliah\", \"universitas telkom surabaya\"\n",
    "print(f\"nama saya {nama} dan umur saya {a+b} tahun dan sedang {kesibukan} di {keterangan}\")"
   ]
  },
  {
   "cell_type": "markdown",
   "id": "8e5da563-95d5-499d-86b5-ab9e83bc6e8e",
   "metadata": {},
   "source": [
    "#### Input Pengguna ####"
   ]
  },
  {
   "cell_type": "code",
   "execution_count": 34,
   "id": "4d9d849e-9cf9-4499-9fce-759887aabc45",
   "metadata": {},
   "outputs": [
    {
     "name": "stdin",
     "output_type": "stream",
     "text": [
      "masukan nama: CINDY NATASA\n",
      "berapa harganya?: 25000\n"
     ]
    },
    {
     "name": "stdout",
     "output_type": "stream",
     "text": [
      "\n",
      "\n",
      "halo, perkenalkan aku CINDY NATASA dan aku sudah makan mie yang harganya Rp 25000\n"
     ]
    }
   ],
   "source": [
    "nama = input(\"masukan nama:\")\n",
    "makan = \"sudah\"\n",
    "harga = int(input(\"berapa harganya?:\"))\n",
    "print(\"\\n\")\n",
    "print(\"halo, perkenalkan aku\", nama, \"dan aku\", makan, \"makan mie yang harganya Rp\", harga)"
   ]
  },
  {
   "cell_type": "markdown",
   "id": "17dfa759-4cc7-41eb-bb82-5899d93ef7e3",
   "metadata": {},
   "source": [
    "#### Percabangan ####"
   ]
  },
  {
   "cell_type": "code",
   "execution_count": 36,
   "id": "2ef70e6f-b2ee-4deb-bd57-e92575f7664d",
   "metadata": {},
   "outputs": [
    {
     "name": "stdin",
     "output_type": "stream",
     "text": [
      "masukan nilai: 100\n"
     ]
    },
    {
     "name": "stdout",
     "output_type": "stream",
     "text": [
      "selamat anda lulus\n"
     ]
    }
   ],
   "source": [
    "nilai = int(input(\"masukan nilai:\"))\n",
    "if nilai >+ 70:\n",
    "    print(\"selamat anda lulus\")\n",
    "elif nilai ==50:\n",
    "    print(\"semoga lulus\")\n",
    "else:\n",
    "    print(\"anda tidak lulus\")"
   ]
  },
  {
   "cell_type": "markdown",
   "id": "b84adbb3-37ea-42d7-ae6c-c517b154bbf9",
   "metadata": {},
   "source": [
    "#### Penjumlahan Sederhana ####"
   ]
  },
  {
   "cell_type": "code",
   "execution_count": 55,
   "id": "7c29e1c0-a7d9-4b9d-80e5-7c3882a9b3af",
   "metadata": {},
   "outputs": [
    {
     "name": "stdin",
     "output_type": "stream",
     "text": [
      "Masukkan bilangan pertama:  20\n",
      "Masukkan bilangan kedua:  20\n"
     ]
    },
    {
     "name": "stdout",
     "output_type": "stream",
     "text": [
      "Hasil penjumlahan: 40.0\n"
     ]
    }
   ],
   "source": [
    "# Input bilangan \n",
    "bilangan1 = float(input(\"Masukkan bilangan pertama: \"))\n",
    "bilangan2 = float(input(\"Masukkan bilangan kedua: \"))\n",
    "hasil = bilangan1 + bilangan2\n",
    "print(\"Hasil penjumlahan:\", hasil)"
   ]
  },
  {
   "cell_type": "markdown",
   "id": "c173a1a2-b741-420a-a174-81c4304b3b70",
   "metadata": {},
   "source": [
    "#### Eksponensial (Pangkat) ####"
   ]
  },
  {
   "cell_type": "code",
   "execution_count": 62,
   "id": "bf3db467-987b-492d-87a5-de957b774380",
   "metadata": {},
   "outputs": [
    {
     "name": "stdin",
     "output_type": "stream",
     "text": [
      "masukan basis: 30\n",
      "masukan eksponen: 35\n"
     ]
    },
    {
     "name": "stdout",
     "output_type": "stream",
     "text": [
      "hasil pangkat: 5.003154509899971e+51\n"
     ]
    }
   ],
   "source": [
    "basis = float(input(\"masukan basis:\"))\n",
    "eksponen = float(input(\"masukan eksponen:\"))\n",
    "hasil = basis ** eksponen\n",
    "print(\"hasil pangkat:\", hasil)"
   ]
  },
  {
   "cell_type": "markdown",
   "id": "9b4eb5cb-c59f-4782-9c15-d9a5589131ba",
   "metadata": {},
   "source": [
    "#### Modulo (Sisa Bagi) ####"
   ]
  },
  {
   "cell_type": "code",
   "execution_count": 68,
   "id": "5bd988e5-4523-4e55-8f00-a24aaba0ba90",
   "metadata": {},
   "outputs": [
    {
     "name": "stdin",
     "output_type": "stream",
     "text": [
      "Masukkan bilangan pertama (integer):  29\n",
      "Masukkan bilangan kedua (integer):  2\n"
     ]
    },
    {
     "name": "stdout",
     "output_type": "stream",
     "text": [
      "Sisa bagi: 1\n"
     ]
    }
   ],
   "source": [
    "bilangan1 = int(input(\"Masukkan bilangan pertama (integer): \"))\n",
    "bilangan2 = int(input(\"Masukkan bilangan kedua (integer): \"))\n",
    "hasil = bilangan1 % bilangan2\n",
    "print(\"Sisa bagi:\", hasil)"
   ]
  },
  {
   "cell_type": "markdown",
   "id": "3fb0612c-1d6c-4071-a0cb-c25a3db02f33",
   "metadata": {},
   "source": [
    "#### Akar Kuadrat ####"
   ]
  },
  {
   "cell_type": "code",
   "execution_count": 75,
   "id": "c461dd31-db9e-41a5-87c1-0d59e33200da",
   "metadata": {},
   "outputs": [
    {
     "name": "stdin",
     "output_type": "stream",
     "text": [
      "Masukkan bilangan:  225\n"
     ]
    },
    {
     "name": "stdout",
     "output_type": "stream",
     "text": [
      "Akar kuadrat: 15.0\n"
     ]
    }
   ],
   "source": [
    "import math\n",
    "bilangan = float(input(\"Masukkan bilangan: \"))\n",
    "hasil = math.sqrt(bilangan)\n",
    "print(\"Akar kuadrat:\", hasil)"
   ]
  },
  {
   "cell_type": "markdown",
   "id": "077afe38-8a98-42fa-bdc2-0b3e137ac247",
   "metadata": {},
   "source": [
    "#### Luas Segitiga ####"
   ]
  },
  {
   "cell_type": "code",
   "execution_count": 22,
   "id": "3d506cb0-f1c2-4bce-b690-dd0006444dab",
   "metadata": {},
   "outputs": [
    {
     "name": "stdin",
     "output_type": "stream",
     "text": [
      "Masukkan tinggi segitiga:  15\n",
      "Masukkan alas segitiga:  10\n"
     ]
    },
    {
     "name": "stdout",
     "output_type": "stream",
     "text": [
      "luas segitiga: 75.0\n"
     ]
    }
   ],
   "source": [
    "tinggi = float(input(\"Masukkan tinggi segitiga: \"))\n",
    "alas = float(input(\"Masukkan alas segitiga: \"))\n",
    "luas = 0.5 * tinggi * alas\n",
    "print(\"luas segitiga:\", luas)"
   ]
  },
  {
   "cell_type": "markdown",
   "id": "c2cb21cd-8ea6-4fdf-ba00-46435cdb7928",
   "metadata": {},
   "source": [
    "#### Bilangan Faktorial ####"
   ]
  },
  {
   "cell_type": "code",
   "execution_count": 34,
   "id": "16ad614f-eb9c-412d-a031-2c0e7e9f5d1f",
   "metadata": {},
   "outputs": [
    {
     "name": "stdout",
     "output_type": "stream",
     "text": [
      "selamat anda lulus.\n"
     ]
    }
   ],
   "source": [
    "nilai = 100\n",
    "if nilai >= 75:\n",
    "    print(\"selamat anda lulus.\")"
   ]
  },
  {
   "cell_type": "markdown",
   "id": "ed34c8ba-de8f-49e8-99ff-5cfdc24e29cc",
   "metadata": {},
   "source": [
    "#### percabangan if-else ####"
   ]
  },
  {
   "cell_type": "code",
   "execution_count": 100,
   "id": "1fae11cd-37a4-49a8-ac2e-510072ffdc7c",
   "metadata": {},
   "outputs": [
    {
     "name": "stdout",
     "output_type": "stream",
     "text": [
      "Anda lulus.\n"
     ]
    }
   ],
   "source": [
    "nilai = 100\n",
    "if nilai >= 75:\n",
    "    print(\"Anda lulus.\")\n",
    "else:\n",
    "    print(\"Anda tidak lulus.\")"
   ]
  },
  {
   "cell_type": "markdown",
   "id": "1faccfb1-a3d2-40b7-8c3a-1ef1236d483e",
   "metadata": {},
   "source": [
    "#### percabangan if-elif-else ####"
   ]
  },
  {
   "cell_type": "code",
   "execution_count": 104,
   "id": "066c3164-d069-4eef-896d-1085f32c7132",
   "metadata": {},
   "outputs": [
    {
     "name": "stdout",
     "output_type": "stream",
     "text": [
      "baik\n"
     ]
    }
   ],
   "source": [
    "nilai = 80\n",
    "if nilai >= 90:\n",
    "    print(\"sangat baik\")\n",
    "elif nilai >= 80:\n",
    "    print(\"baik\")\n",
    "elif nilai >= 70:\n",
    "    print(\"cukup\")\n",
    "else:\n",
    "    print(\"kurang\")"
   ]
  },
  {
   "cell_type": "code",
   "execution_count": 124,
   "id": "acbeb2bd-f32c-42a8-99c8-feae9548c60e",
   "metadata": {},
   "outputs": [
    {
     "name": "stdout",
     "output_type": "stream",
     "text": [
      "Saya Suka Makan apel\n",
      "Saya Suka Makan mangga\n",
      "Saya Suka Makan melon\n"
     ]
    }
   ],
   "source": [
    "buah = [\"apel\", \"mangga\", \"melon\"]\n",
    "for buah in buah:\n",
    "    print(f'Saya Suka Makan {buah}')"
   ]
  },
  {
   "cell_type": "code",
   "execution_count": 126,
   "id": "61d8662d-0d8c-4d1b-9a93-516ef9842cba",
   "metadata": {},
   "outputs": [
    {
     "name": "stdout",
     "output_type": "stream",
     "text": [
      "apel\n",
      "mangga\n",
      "melon\n"
     ]
    }
   ],
   "source": [
    "buah = [\"apel\", \"mangga\", \"melon\"]\n",
    "for i in range(3):\n",
    "    print(buah[i])"
   ]
  },
  {
   "cell_type": "code",
   "execution_count": 128,
   "id": "c12886cb-983f-48f1-9f23-cdf59660642b",
   "metadata": {},
   "outputs": [
    {
     "name": "stdout",
     "output_type": "stream",
     "text": [
      "10 x 1 = 10\n",
      "10 x 2 = 20\n",
      "10 x 3 = 30\n",
      "10 x 4 = 40\n",
      "10 x 5 = 50\n",
      "10 x 6 = 60\n",
      "10 x 7 = 70\n",
      "10 x 8 = 80\n",
      "10 x 9 = 90\n",
      "10 x 10 = 100\n"
     ]
    }
   ],
   "source": [
    "angka = 10\n",
    "for i in range(1, 11):\n",
    "    print(angka, 'x', i, '=', angka*i)"
   ]
  },
  {
   "cell_type": "code",
   "execution_count": 132,
   "id": "fee40888-3c6a-4127-a8a1-affb5fa0332e",
   "metadata": {},
   "outputs": [
    {
     "name": "stdout",
     "output_type": "stream",
     "text": [
      "1\n",
      "2\n",
      "3\n"
     ]
    }
   ],
   "source": [
    "#menampilkan angka urut\n",
    "i = 1\n",
    "while i <= 3:\n",
    "    print(i)\n",
    "    i += 1"
   ]
  },
  {
   "cell_type": "code",
   "execution_count": 144,
   "id": "565fa511-e007-4d55-82d1-8a53fc996643",
   "metadata": {},
   "outputs": [
    {
     "name": "stdout",
     "output_type": "stream",
     "text": [
      "5\n",
      "8\n",
      "11\n",
      "14\n",
      "17\n",
      "20\n",
      "23\n",
      "26\n",
      "29\n"
     ]
    }
   ],
   "source": [
    "#menampilkan angka kelipatan\n",
    "i = 5\n",
    "while i < 30:\n",
    "    print(i)\n",
    "    i = i + 3"
   ]
  }
 ],
 "metadata": {
  "kernelspec": {
   "display_name": "Python 3 (ipykernel)",
   "language": "python",
   "name": "python3"
  },
  "language_info": {
   "codemirror_mode": {
    "name": "ipython",
    "version": 3
   },
   "file_extension": ".py",
   "mimetype": "text/x-python",
   "name": "python",
   "nbconvert_exporter": "python",
   "pygments_lexer": "ipython3",
   "version": "3.12.4"
  }
 },
 "nbformat": 4,
 "nbformat_minor": 5
}
